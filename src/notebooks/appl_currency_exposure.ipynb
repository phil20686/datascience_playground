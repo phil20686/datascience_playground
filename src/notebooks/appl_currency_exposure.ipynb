{
 "cells": [
  {
   "cell_type": "code",
   "execution_count": 1,
   "metadata": {
    "collapsed": true
   },
   "outputs": [],
   "source": [
    "#This script is to practice linear regression. \n",
    "from src.quandle_data_sources import QuandlDataSources, Datahandler\n",
    "from datetime import date\n",
    "import pandas as pd\n"
   ]
  },
  {
   "cell_type": "code",
   "execution_count": 93,
   "metadata": {},
   "outputs": [
    {
     "name": "stdout",
     "output_type": "stream",
     "text": [
      "(2301, 7)\n"
     ]
    }
   ],
   "source": [
    "# Prepare the data set\n",
    "\n",
    "series = [\n",
    "    QuandlDataSources.Equities.appl,\n",
    "    QuandlDataSources.Currencies.canusd,\n",
    "    QuandlDataSources.Currencies.cnyusd,\n",
    "    QuandlDataSources.Currencies.usdaud,\n",
    "    QuandlDataSources.Currencies.usdeur,\n",
    "    QuandlDataSources.Currencies.usdgbp,\n",
    "    QuandlDataSources.Currencies.jpyusd,\n",
    "]\n",
    "df = Datahandler.get(series, start_date=date(2010, 1, 1), end_date=date.today())\n",
    "df.columns = pd.MultiIndex.from_tuples([tuple(x.strip() for x in name.split('-')) for name in df.columns])\n",
    "\n",
    "df_raw = pd.concat([df.loc[:, [(QuandlDataSources.Equities.appl, 'Adj_Close')]], df.iloc[:, -6:]], axis=1)\n",
    "df_raw.columns = df_raw.columns.droplevel(1)\n",
    "\n",
    "df_data = df_raw.pct_change().dropna()*100.0\n",
    "\n",
    "df_data_monthly = df_raw.ffill().resample('M').last().pct_change().dropna()*100.0\n",
    "print(df_data.shape)"
   ]
  },
  {
   "cell_type": "code",
   "execution_count": 94,
   "metadata": {
    "collapsed": false
   },
   "outputs": [
    {
     "name": "stdout",
     "output_type": "stream",
     "text": [
      "[0.17982989]\nR squared is: 0.004116834097651623\n"
     ]
    }
   ],
   "source": [
    "# Standard regression\n",
    "\n",
    "from sklearn import linear_model\n",
    "from sklearn.metrics import r2_score\n",
    "\n",
    "reg = linear_model.LinearRegression()\n",
    "# X = df_data[QuandlDataSources.Currencies.usdeur].to_frame().values\n",
    "# Y = df_data[QuandlDataSources.Equities.appl].values\n",
    "X = df_data_monthly[QuandlDataSources.Currencies.usdeur].to_frame().values\n",
    "Y = df_data_monthly[QuandlDataSources.Equities.appl].values\n",
    "reg.fit(X, Y)\n",
    "Y_predict = reg.predict(X)\n",
    "print(reg.coef_)\n",
    "r_squared = r2_score(Y, Y_predict)\n",
    "print(\"R squared is: {}\".format(r_squared))"
   ]
  },
  {
   "cell_type": "code",
   "execution_count": 95,
   "metadata": {},
   "outputs": [
    {
     "data": {
      "text/plain": [
       "(array([-25., -20., -15., -10.,  -5.,   0.,   5.,  10.,  15.,  20.,  25.]),\n <a list of 11 Text yticklabel objects>)"
      ]
     },
     "execution_count": 95,
     "metadata": {},
     "output_type": "execute_result"
    },
    {
     "data": {
      "image/png": "[encoded data removed]",
      "text/plain": [
       "<Figure size 432x288 with 1 Axes>"
      ]
     },
     "metadata": {},
     "output_type": "display_data"
    }
   ],
   "source": [
    "% matplotlib inline\n",
    "import matplotlib.pyplot as plt\n",
    "plt.scatter(X, Y)\n",
    "plt.plot(X, Y_predict, color='black')\n",
    "plt.xticks()\n",
    "plt.yticks()"
   ]
  },
  {
   "cell_type": "code",
   "execution_count": 96,
   "metadata": {},
   "outputs": [
    {
     "name": "stdout",
     "output_type": "stream",
     "text": [
      "[-0.60853696  0.10355509  0.40326055 -0.5957586   0.10355509  0.28792011]\nR squared is: 0.08831237621720223\n"
     ]
    }
   ],
   "source": [
    "# Multilinear model:\n",
    "multi_reg = linear_model.LinearRegression()\n",
    "# X = df_data.iloc[:, 1:].values\n",
    "# Y = df_data[QuandlDataSources.Equities.appl].values\n",
    "X = df_data_monthly.iloc[:, 1:].values\n",
    "Y = df_data_monthly[QuandlDataSources.Equities.appl].values\n",
    "multi_reg.fit(X, Y)\n",
    "Y_predict = multi_reg.predict(X)\n",
    "print(multi_reg.coef_)\n",
    "r_squared = r2_score(Y, Y_predict)\n",
    "print(\"R squared is: {}\".format(r_squared))"
   ]
  },
  {
   "cell_type": "code",
   "execution_count": 97,
   "metadata": {},
   "outputs": [
    {
     "data": {
      "text/plain": [
       "(array([-4., -2.,  0.,  2.,  4.,  6.,  8.]),\n <a list of 7 Text yticklabel objects>)"
      ]
     },
     "execution_count": 97,
     "metadata": {},
     "output_type": "execute_result"
    },
    {
     "data": {
      "image/png": "[encoded data removed]",
      "text/plain": [
       "<Figure size 432x288 with 1 Axes>"
      ]
     },
     "metadata": {},
     "output_type": "display_data"
    }
   ],
   "source": [
    "\n",
    "plt.scatter(Y, Y_predict, color='black')\n",
    "plt.xticks()\n",
    "plt.yticks()"
   ]
  }
 ],
 "metadata": {
  "kernelspec": {
   "display_name": "Python 2",
   "language": "python",
   "name": "python2"
  },
  "language_info": {
   "codemirror_mode": {
    "name": "ipython",
    "version": 2
   },
   "file_extension": ".py",
   "mimetype": "text/x-python",
   "name": "python",
   "nbconvert_exporter": "python",
   "pygments_lexer": "ipython2",
   "version": "2.7.6"
  }
 },
 "nbformat": 4,
 "nbformat_minor": 0
}
